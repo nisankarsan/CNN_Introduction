{
 "cells": [
  {
   "cell_type": "markdown",
   "metadata": {
    "id": "3DR-eO17geWu"
   },
   "source": [
    "# Convolutional Neural Network"
   ]
  },
  {
   "cell_type": "markdown",
   "metadata": {
    "id": "EMefrVPCg-60"
   },
   "source": [
    "### Importing the libraries"
   ]
  },
  {
   "cell_type": "code",
   "execution_count": 1,
   "metadata": {},
   "outputs": [],
   "source": [
    "import tensorflow as tf\n",
    "from tensorflow.keras.preprocessing.image import ImageDataGenerator"
   ]
  },
  {
   "cell_type": "code",
   "execution_count": 2,
   "metadata": {},
   "outputs": [
    {
     "data": {
      "text/plain": [
       "'2.13.0'"
      ]
     },
     "execution_count": 2,
     "metadata": {},
     "output_type": "execute_result"
    }
   ],
   "source": [
    "tf.__version__"
   ]
  },
  {
   "cell_type": "markdown",
   "metadata": {
    "id": "oxQxCBWyoGPE"
   },
   "source": [
    "## Part 1 - Data Preprocessing"
   ]
  },
  {
   "cell_type": "markdown",
   "metadata": {
    "id": "MvE-heJNo3GG"
   },
   "source": [
    "### Preprocessing the Training set"
   ]
  },
  {
   "cell_type": "markdown",
   "metadata": {},
   "source": [
    "- apply tranformations to the images to avoid overfitting\n",
    "- if not applying transformations, the model will learn the images as it is and will not generalize well\n",
    "- these transformations are like rotating, flipping, zooming, etc and are called data augmentation\n",
    "- overfitting is model memorizing the training data and not generalizing well to new data which is test data"
   ]
  },
  {
   "cell_type": "code",
   "execution_count": 3,
   "metadata": {},
   "outputs": [
    {
     "name": "stdout",
     "output_type": "stream",
     "text": [
      "Found 8000 images belonging to 2 classes.\n"
     ]
    }
   ],
   "source": [
    "# this is the augmentation configuration we will use for training\n",
    "train_datagen = ImageDataGenerator(\n",
    "        rescale=1./255, # Feature scaling (normalization) to make the values between 0 and 1 \n",
    "        shear_range=0.2, # Shear Intensity (Shear angle in counter-clockwise direction in degrees) \n",
    "        zoom_range=0.2,     # Zoom Intensity (Range for random zoom) \n",
    "        horizontal_flip=True) # Horizontal Flip (Boolean, Randomly flip inputs horizontally) \n",
    "\n",
    "# this is a generator that will read pictures found in\n",
    "# subfolers of 'data/train', and indefinitely generate\n",
    "# batches of augmented image data\n",
    "training_set= train_datagen.flow_from_directory( # Generates batches of tensor image data with real-time data augmentation \n",
    "        '/Users/nisankarsan/Downloads/Codes/Deep Learning A-Z/Part 2 - Convolutional Neural Networks (CNN)/dataset/training_set', \n",
    "        # directory of the training data \n",
    "        target_size=(64, 64),  # dimensions to which all images found will be resized \n",
    "        batch_size=32, # size of the batches of data (default: 32), batch size is the number of training examples utilized in one iteration\n",
    "        class_mode='binary')  # since we use binary_crossentropy loss, we need binary labels "
   ]
  },
  {
   "cell_type": "markdown",
   "metadata": {
    "id": "mrCMmGw9pHys"
   },
   "source": [
    "### Preprocessing the Test set"
   ]
  },
  {
   "cell_type": "code",
   "execution_count": 4,
   "metadata": {},
   "outputs": [
    {
     "name": "stdout",
     "output_type": "stream",
     "text": [
      "Found 2000 images belonging to 2 classes.\n"
     ]
    }
   ],
   "source": [
    "# this is the augmentation configuration we will use for testing:\n",
    "# only rescaling (normalization) because we don't want to augment the test data \n",
    "test_datagen = ImageDataGenerator(rescale=1./255)\n",
    "\n",
    "# this is a similar generator, for validation data for the model \n",
    "test_set = test_datagen.flow_from_directory('/Users/nisankarsan/Downloads/Codes/Deep Learning A-Z/Part 2 - Convolutional Neural Networks (CNN)/dataset/test_set',\n",
    "                                            target_size = (64, 64),\n",
    "                                            batch_size = 32,\n",
    "                                            class_mode = 'binary')"
   ]
  },
  {
   "cell_type": "markdown",
   "metadata": {
    "id": "af8O4l90gk7B"
   },
   "source": [
    "## Part 2 - Building the CNN"
   ]
  },
  {
   "cell_type": "markdown",
   "metadata": {
    "id": "ces1gXY2lmoX"
   },
   "source": [
    "### Initialising the CNN"
   ]
  },
  {
   "cell_type": "code",
   "execution_count": 5,
   "metadata": {},
   "outputs": [
    {
     "name": "stderr",
     "output_type": "stream",
     "text": [
      "2024-11-12 17:05:51.056952: I metal_plugin/src/device/metal_device.cc:1154] Metal device set to: Apple M2\n",
      "2024-11-12 17:05:51.057006: I metal_plugin/src/device/metal_device.cc:296] systemMemory: 16.00 GB\n",
      "2024-11-12 17:05:51.057016: I metal_plugin/src/device/metal_device.cc:313] maxCacheSize: 5.33 GB\n",
      "2024-11-12 17:05:51.057058: I tensorflow/core/common_runtime/pluggable_device/pluggable_device_factory.cc:303] Could not identify NUMA node of platform GPU ID 0, defaulting to 0. Your kernel may not have been built with NUMA support.\n",
      "2024-11-12 17:05:51.057078: I tensorflow/core/common_runtime/pluggable_device/pluggable_device_factory.cc:269] Created TensorFlow device (/job:localhost/replica:0/task:0/device:GPU:0 with 0 MB memory) -> physical PluggableDevice (device: 0, name: METAL, pci bus id: <undefined>)\n"
     ]
    }
   ],
   "source": [
    "cnn = tf.keras.models.Sequential() # Initialising the CNN which is a sequence of layers "
   ]
  },
  {
   "cell_type": "markdown",
   "metadata": {
    "id": "u5YJj_XMl5LF"
   },
   "source": [
    "### Step 1 - Convolution"
   ]
  },
  {
   "cell_type": "code",
   "execution_count": 6,
   "metadata": {},
   "outputs": [],
   "source": [
    "cnn.add(tf.keras.layers.Conv2D(filters=32, kernel_size=3, activation='relu', input_shape=[64, 64, 3])) # Convolutional Layer\n",
    "\n",
    "\n",
    "# filters: number of filters in the convolution , kernel_size: dimensions of the convolution window, activation: activation function\n",
    "#Conv2D is the layer to convolve the image into multiple images \n",
    "# input_shape: shape of the input image (64x64 pixels and 3 channels for colored images) if the image is black and white, the input_shape will be [64, 64, 1]\n",
    "# Rectified Linear Unit (ReLU) activation function is used to add non-linearity to the model\n",
    "# ReLU is used to convert all the negative pixel values to zero\n",
    "# The first layer of the CNN is the Convolutional Layer which is used to detect features in the input image\n",
    "# The input image is passed through a filter (kernel) to produce a feature map\n",
    "# The feature map highlights the features in the input image\n",
    "# The Convolutional Layer is the building block of the CNN\n",
    "# The Convolutional Layer is followed by the Pooling Layer\n",
    "\n"
   ]
  },
  {
   "cell_type": "markdown",
   "metadata": {
    "id": "tf87FpvxmNOJ"
   },
   "source": [
    "### Step 2 - Pooling"
   ]
  },
  {
   "cell_type": "markdown",
   "metadata": {},
   "source": [
    "- The Pooling Layer is used to reduce the spatial dimensions of the Convolutional Layer\n",
    "- The Pooling Layer is used to reduce the computational complexity of the CNN"
   ]
  },
  {
   "cell_type": "code",
   "execution_count": 7,
   "metadata": {},
   "outputs": [],
   "source": [
    "cnn.add(tf.keras.layers.MaxPool2D(pool_size=2, strides=2)) # Pooling Layer\n",
    "# pool_size: dimensions of the pooling window, strides: factor by which the window shifts\n",
    "# MaxPooling is used to reduce the spatial dimensions of the Convolutional Layer"
   ]
  },
  {
   "cell_type": "markdown",
   "metadata": {
    "id": "xaTOgD8rm4mU"
   },
   "source": [
    "### Adding a second convolutional layer"
   ]
  },
  {
   "cell_type": "code",
   "execution_count": 8,
   "metadata": {},
   "outputs": [],
   "source": [
    "cnn.add(tf.keras.layers.Conv2D(filters=32, kernel_size=3, activation='relu')) # Convolutional Layer\n",
    "#remove input_shape as it is not required for the subsequent layers \n",
    "cnn.add(tf.keras.layers.MaxPool2D(pool_size=2, strides=2))# Pooling Layer\n",
    "\n"
   ]
  },
  {
   "cell_type": "markdown",
   "metadata": {
    "id": "tmiEuvTunKfk"
   },
   "source": [
    "### Step 3 - Flattening"
   ]
  },
  {
   "cell_type": "markdown",
   "metadata": {},
   "source": [
    "- flattening is the process of converting all the resultant 2D arrays into a single long continuous linear vector\n"
   ]
  },
  {
   "cell_type": "code",
   "execution_count": 9,
   "metadata": {},
   "outputs": [],
   "source": [
    "cnn.add(tf.keras.layers.Flatten()) # Flattening Layer\n",
    "# Flatten is used to convert the 2D feature maps into a single 1D vector\n"
   ]
  },
  {
   "cell_type": "markdown",
   "metadata": {
    "id": "dAoSECOm203v"
   },
   "source": [
    "### Step 4 - Full Connection"
   ]
  },
  {
   "cell_type": "code",
   "execution_count": 10,
   "metadata": {},
   "outputs": [],
   "source": [
    "cnn.add(tf.keras.layers.Dense(units=128, activation='relu')) # Fully Connected Layer\n",
    "# units: number of hidden neurons in the layer, activation: activation function is ReLU used to add non-linearity to the model \n",
    "# Dense is used to connect all the neurons of the previous layer to the next layer\n",
    "# The Fully Connected Layer is used to connect the neurons of the previous layer to the next layer\n",
    "# The Fully Connected Layer is the last layer of the CNN\n"
   ]
  },
  {
   "cell_type": "markdown",
   "metadata": {
    "id": "yTldFvbX28Na"
   },
   "source": [
    "### Step 5 - Output Layer"
   ]
  },
  {
   "cell_type": "code",
   "execution_count": 11,
   "metadata": {},
   "outputs": [],
   "source": [
    "cnn.add(tf.keras.layers.Dense(units=1, activation='sigmoid')) \n",
    "\n",
    " # Output Layer\n",
    "# units: number of output neurons in the layer which is 1 cat or dog,\n",
    "# activation: activation function is Sigmoid used to predict the class labels of the input image \n",
    "# The Output Layer is used to predict the class labels of the input image \n",
    "# The Output Layer is the last layer of the CNN\n"
   ]
  },
  {
   "cell_type": "markdown",
   "metadata": {
    "id": "D6XkI90snSDl"
   },
   "source": [
    "## Part 3 - Training the CNN"
   ]
  },
  {
   "cell_type": "markdown",
   "metadata": {
    "id": "vfrFQACEnc6i"
   },
   "source": [
    "### Compiling the CNN"
   ]
  },
  {
   "cell_type": "code",
   "execution_count": 12,
   "metadata": {},
   "outputs": [],
   "source": [
    "cnn.compile(optimizer = 'adam', loss = 'binary_crossentropy', metrics = ['accuracy'])\n",
    "\n",
    "# Compiling the CNN\n",
    "# optimizer: Adam is used to update the weights of the network\n",
    "# loss: binary_crossentropy is used for binary classification dog or cat\n",
    "# metrics: accuracy is used to evaluate the performance of the model\n",
    "# The compile method is used to configure the CNN for training "
   ]
  },
  {
   "cell_type": "markdown",
   "metadata": {
    "id": "ehS-v3MIpX2h"
   },
   "source": [
    "### Training the CNN on the Training set and evaluating it on the Test set"
   ]
  },
  {
   "cell_type": "markdown",
   "metadata": {},
   "source": [
    "what is the \\\n",
    "Epoch 1/25 \\\n",
    "250/250 \\\n",
    "we have 8000 images and also batch size =32 so 8000/32= 250 which means have 250 steps in each epoch to reach to total amount of 8000 images\n"
   ]
  },
  {
   "cell_type": "code",
   "execution_count": 13,
   "metadata": {},
   "outputs": [
    {
     "name": "stdout",
     "output_type": "stream",
     "text": [
      "Epoch 1/25\n"
     ]
    },
    {
     "name": "stderr",
     "output_type": "stream",
     "text": [
      "2024-11-12 17:05:51.547325: I tensorflow/core/grappler/optimizers/custom_graph_optimizer_registry.cc:114] Plugin optimizer for device_type GPU is enabled.\n"
     ]
    },
    {
     "name": "stdout",
     "output_type": "stream",
     "text": [
      "250/250 [==============================] - ETA: 0s - loss: 0.6675 - accuracy: 0.5896"
     ]
    },
    {
     "name": "stderr",
     "output_type": "stream",
     "text": [
      "2024-11-12 17:06:05.140218: I tensorflow/core/grappler/optimizers/custom_graph_optimizer_registry.cc:114] Plugin optimizer for device_type GPU is enabled.\n"
     ]
    },
    {
     "name": "stdout",
     "output_type": "stream",
     "text": [
      "250/250 [==============================] - 16s 64ms/step - loss: 0.6675 - accuracy: 0.5896 - val_loss: 0.8057 - val_accuracy: 0.5480\n",
      "Epoch 2/25\n",
      "250/250 [==============================] - 16s 63ms/step - loss: 0.6123 - accuracy: 0.6665 - val_loss: 0.5712 - val_accuracy: 0.7075\n",
      "Epoch 3/25\n",
      "250/250 [==============================] - 16s 63ms/step - loss: 0.5775 - accuracy: 0.6981 - val_loss: 0.6009 - val_accuracy: 0.6755\n",
      "Epoch 4/25\n",
      "250/250 [==============================] - 16s 63ms/step - loss: 0.5686 - accuracy: 0.7088 - val_loss: 0.5869 - val_accuracy: 0.6970\n",
      "Epoch 5/25\n",
      "250/250 [==============================] - 15s 62ms/step - loss: 0.5796 - accuracy: 0.6999 - val_loss: 0.6201 - val_accuracy: 0.6985\n",
      "Epoch 6/25\n",
      "250/250 [==============================] - 15s 58ms/step - loss: 0.6034 - accuracy: 0.6966 - val_loss: 0.6667 - val_accuracy: 0.6830\n",
      "Epoch 7/25\n",
      "250/250 [==============================] - 15s 60ms/step - loss: 0.6061 - accuracy: 0.7010 - val_loss: 0.6065 - val_accuracy: 0.7155\n",
      "Epoch 8/25\n",
      "250/250 [==============================] - 14s 57ms/step - loss: 0.6447 - accuracy: 0.6924 - val_loss: 1.9012 - val_accuracy: 0.5245\n",
      "Epoch 9/25\n",
      "250/250 [==============================] - 15s 61ms/step - loss: 1.0381 - accuracy: 0.6404 - val_loss: 1.4604 - val_accuracy: 0.5795\n",
      "Epoch 10/25\n",
      "250/250 [==============================] - 17s 66ms/step - loss: 0.7684 - accuracy: 0.6701 - val_loss: 0.6329 - val_accuracy: 0.7155\n",
      "Epoch 11/25\n",
      "250/250 [==============================] - 16s 63ms/step - loss: 0.8130 - accuracy: 0.6675 - val_loss: 1.5236 - val_accuracy: 0.5815\n",
      "Epoch 12/25\n",
      "250/250 [==============================] - 14s 55ms/step - loss: 0.8461 - accuracy: 0.6691 - val_loss: 0.7130 - val_accuracy: 0.7050\n",
      "Epoch 13/25\n",
      "250/250 [==============================] - 14s 55ms/step - loss: 0.9627 - accuracy: 0.6582 - val_loss: 0.9112 - val_accuracy: 0.6590\n",
      "Epoch 14/25\n",
      "250/250 [==============================] - 14s 58ms/step - loss: 1.2408 - accuracy: 0.6401 - val_loss: 1.1091 - val_accuracy: 0.6445\n",
      "Epoch 15/25\n",
      "250/250 [==============================] - 14s 56ms/step - loss: 1.3041 - accuracy: 0.6357 - val_loss: 1.6770 - val_accuracy: 0.6030\n",
      "Epoch 16/25\n",
      "250/250 [==============================] - 15s 59ms/step - loss: 1.3735 - accuracy: 0.6425 - val_loss: 1.5543 - val_accuracy: 0.6375\n",
      "Epoch 17/25\n",
      "250/250 [==============================] - 16s 64ms/step - loss: 1.4443 - accuracy: 0.6367 - val_loss: 1.6592 - val_accuracy: 0.6265\n",
      "Epoch 18/25\n",
      "250/250 [==============================] - 17s 68ms/step - loss: 1.8523 - accuracy: 0.6217 - val_loss: 1.9098 - val_accuracy: 0.6195\n",
      "Epoch 19/25\n",
      "250/250 [==============================] - 15s 62ms/step - loss: 1.7125 - accuracy: 0.6330 - val_loss: 4.1213 - val_accuracy: 0.5350\n",
      "Epoch 20/25\n",
      "250/250 [==============================] - 15s 59ms/step - loss: 2.2454 - accuracy: 0.6029 - val_loss: 1.0836 - val_accuracy: 0.6775\n",
      "Epoch 21/25\n",
      "250/250 [==============================] - 14s 57ms/step - loss: 2.2238 - accuracy: 0.6044 - val_loss: 1.7712 - val_accuracy: 0.6150\n",
      "Epoch 22/25\n",
      "250/250 [==============================] - 14s 58ms/step - loss: 4.0327 - accuracy: 0.5867 - val_loss: 4.6620 - val_accuracy: 0.5620\n",
      "Epoch 23/25\n",
      "250/250 [==============================] - 14s 56ms/step - loss: 3.5696 - accuracy: 0.5863 - val_loss: 5.7897 - val_accuracy: 0.5530\n",
      "Epoch 24/25\n",
      "250/250 [==============================] - 15s 60ms/step - loss: 3.8062 - accuracy: 0.6069 - val_loss: 2.0686 - val_accuracy: 0.6265\n",
      "Epoch 25/25\n",
      "250/250 [==============================] - 15s 58ms/step - loss: 3.0950 - accuracy: 0.5993 - val_loss: 7.0289 - val_accuracy: 0.5080\n"
     ]
    },
    {
     "data": {
      "text/plain": [
       "<keras.src.callbacks.History at 0x16e53df70>"
      ]
     },
     "execution_count": 13,
     "metadata": {},
     "output_type": "execute_result"
    }
   ],
   "source": [
    "cnn.fit(x = training_set, validation_data = test_set, epochs = 25)\n",
    "# x: training data, validation_data: validation data, epochs: number of iterations over the entire training data\n"
   ]
  },
  {
   "cell_type": "markdown",
   "metadata": {
    "id": "U3PZasO0006Z"
   },
   "source": [
    "## Part 4 - Making a single prediction"
   ]
  },
  {
   "cell_type": "code",
   "execution_count": 47,
   "metadata": {},
   "outputs": [
    {
     "name": "stdout",
     "output_type": "stream",
     "text": [
      "1/1 [==============================] - 0s 11ms/step\n"
     ]
    }
   ],
   "source": [
    "import numpy as np\n",
    "from tensorflow.keras.preprocessing import image\n",
    "test_image = image.load_img('/Users/nisankarsan/Downloads/Codes/Deep Learning A-Z/Part 2 - Convolutional Neural Networks (CNN)/dataset/single_prediction/cat_or_dog_1.jpg', target_size = (64, 64))\n",
    "test_image = image.img_to_array(test_image)\n",
    "test_image = np.expand_dims(test_image, axis = 0)\n",
    "result = cnn.predict(test_image)\n",
    "training_set.class_indices\n",
    "if result[0][0] == 1:\n",
    "  prediction = 'dog'\n",
    "else:\n",
    "  prediction = 'cat'"
   ]
  },
  {
   "cell_type": "code",
   "execution_count": 48,
   "metadata": {},
   "outputs": [
    {
     "name": "stdout",
     "output_type": "stream",
     "text": [
      "dog\n"
     ]
    }
   ],
   "source": [
    "print(prediction)"
   ]
  },
  {
   "cell_type": "code",
   "execution_count": null,
   "metadata": {},
   "outputs": [],
   "source": []
  }
 ],
 "metadata": {
  "colab": {
   "authorship_tag": "ABX9TyN2fBThgo8wJQn6Xf6V6crC",
   "provenance": []
  },
  "kernelspec": {
   "display_name": "tensorflow",
   "language": "python",
   "name": "python3"
  },
  "language_info": {
   "codemirror_mode": {
    "name": "ipython",
    "version": 3
   },
   "file_extension": ".py",
   "mimetype": "text/x-python",
   "name": "python",
   "nbconvert_exporter": "python",
   "pygments_lexer": "ipython3",
   "version": "3.8.20"
  }
 },
 "nbformat": 4,
 "nbformat_minor": 0
}
